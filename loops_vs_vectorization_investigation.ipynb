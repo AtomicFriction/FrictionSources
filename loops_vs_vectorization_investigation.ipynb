{
 "cells": [
  {
   "cell_type": "markdown",
   "metadata": {},
   "source": [
    "# Loops vs Vectorization (With Numba) Investigation"
   ]
  },
  {
   "cell_type": "markdown",
   "metadata": {},
   "source": [
    "###### The timing values are in seconds. All of the operations ran back-to-back to reduce any inconsistencies with timings. Apparently CPU load effects the timings a lot."
   ]
  },
  {
   "cell_type": "markdown",
   "metadata": {},
   "source": [
    "### Library Imports."
   ]
  },
  {
   "cell_type": "code",
   "execution_count": 44,
   "metadata": {},
   "outputs": [],
   "source": [
    "## For handling vector operations.\n",
    "import numpy as np\n",
    "## For plotting results.\n",
    "import matplotlib.pyplot as plt\n",
    "## For compiler impact investigation.\n",
    "from numba import jit\n",
    "## For code timings.\n",
    "import timeit"
   ]
  },
  {
   "cell_type": "markdown",
   "metadata": {},
   "source": [
    "### Initial Definitions."
   ]
  },
  {
   "cell_type": "code",
   "execution_count": 45,
   "metadata": {},
   "outputs": [],
   "source": [
    "rand_rows = 100000\n",
    "rand_cols = 1\n",
    "np.random.seed(45) ## In case anyone wants to replicate the exact outcome.\n",
    "vect_1 = np.random.rand(rand_rows, rand_cols)\n",
    "vect_2 = np.random.rand(rand_rows, rand_cols)\n",
    "\n",
    "mat_1 = np.random.rand(100, 100)\n",
    "mat_2 = np.random.rand(100, 100)\n",
    "\n",
    "rand_scalar = np.random.rand(1)\n",
    "\n",
    "number_of_runs = 100"
   ]
  },
  {
   "cell_type": "markdown",
   "metadata": {},
   "source": [
    "## Scalar Product Comparisons"
   ]
  },
  {
   "cell_type": "markdown",
   "metadata": {},
   "source": [
    "### Scalar product with loops."
   ]
  },
  {
   "cell_type": "code",
   "execution_count": 46,
   "metadata": {},
   "outputs": [
    {
     "name": "stdout",
     "output_type": "stream",
     "text": [
      "0.1321733611599848\n"
     ]
    }
   ],
   "source": [
    "def ScalarProdLoop():\n",
    "    scalar_prod_loop = np.zeros((rand_rows, rand_cols))\n",
    "\n",
    "    for i in range(len(vect_1)):\n",
    "        scalar_prod_loop[i] = rand_scalar * vect_1[i]\n",
    "\n",
    "mean_elapsed_scalar_prod_loop = timeit.timeit(\"ScalarProdLoop()\", number = number_of_runs, globals = globals()) / number_of_runs\n",
    "print(mean_elapsed_scalar_prod_loop)"
   ]
  },
  {
   "cell_type": "markdown",
   "metadata": {},
   "source": [
    "### Scalar product with loops and Numba."
   ]
  },
  {
   "cell_type": "code",
   "execution_count": 47,
   "metadata": {},
   "outputs": [
    {
     "name": "stdout",
     "output_type": "stream",
     "text": [
      "0.008032566420006333\n"
     ]
    }
   ],
   "source": [
    "@jit(nopython = True)\n",
    "def ScalarProdLoopNumba():\n",
    "    scalar_prod_loop_numba = np.zeros((rand_rows, rand_cols))\n",
    "\n",
    "    for i in range(len(vect_1)):\n",
    "        scalar_prod_loop_numba[i] = rand_scalar * vect_1[i]\n",
    "\n",
    "mean_elapsed_scalar_prod_loop_numba = timeit.timeit(\"ScalarProdLoopNumba()\", number = number_of_runs, globals = globals()) / number_of_runs\n",
    "print(mean_elapsed_scalar_prod_loop_numba)"
   ]
  },
  {
   "cell_type": "markdown",
   "metadata": {},
   "source": [
    "### Vectorized scalar product."
   ]
  },
  {
   "cell_type": "code",
   "execution_count": 48,
   "metadata": {},
   "outputs": [
    {
     "name": "stdout",
     "output_type": "stream",
     "text": [
      "3.707635001774179e-05\n"
     ]
    }
   ],
   "source": [
    "def ScalarProdVect():\n",
    "    scalar_prod_vect = rand_scalar * vect_1\n",
    "\n",
    "mean_elapsed_scalar_prod_vect = timeit.timeit(\"ScalarProdVect()\", number = number_of_runs, globals = globals()) / number_of_runs\n",
    "print(mean_elapsed_scalar_prod_vect)"
   ]
  },
  {
   "cell_type": "markdown",
   "metadata": {},
   "source": [
    "### Vectorized scalar product with Numba."
   ]
  },
  {
   "cell_type": "code",
   "execution_count": 49,
   "metadata": {},
   "outputs": [
    {
     "name": "stdout",
     "output_type": "stream",
     "text": [
      "0.0011584863100142684\n"
     ]
    }
   ],
   "source": [
    "@jit(nopython = True)\n",
    "def ScalarProdVectNumba():\n",
    "    scalar_prod_vect_numba = rand_scalar * vect_1\n",
    "\n",
    "mean_elapsed_scalar_prod_vect_numba = timeit.timeit(\"ScalarProdVectNumba()\", number = number_of_runs, globals = globals()) / number_of_runs\n",
    "print(mean_elapsed_scalar_prod_vect_numba)"
   ]
  },
  {
   "cell_type": "markdown",
   "metadata": {},
   "source": [
    "# Scalar Product Results"
   ]
  },
  {
   "cell_type": "code",
   "execution_count": 50,
   "metadata": {},
   "outputs": [
    {
     "name": "stdout",
     "output_type": "stream",
     "text": [
      "Loops / Vectorization = 3564.8967899142485\n",
      "Loops With Numba / Vectorization = 216.64933080420772\n",
      "Vectorization With Numba / Vectorization = 31.245964326583096\n"
     ]
    }
   ],
   "source": [
    "print(\"Loops / Vectorization = \" + str(mean_elapsed_scalar_prod_loop / mean_elapsed_scalar_prod_vect))\n",
    "print(\"Loops With Numba / Vectorization = \" + str(mean_elapsed_scalar_prod_loop_numba / mean_elapsed_scalar_prod_vect))\n",
    "print(\"Vectorization With Numba / Vectorization = \" + str(mean_elapsed_scalar_prod_vect_numba / mean_elapsed_scalar_prod_vect))"
   ]
  },
  {
   "cell_type": "markdown",
   "metadata": {},
   "source": [
    "## Dot Product Comparisons"
   ]
  },
  {
   "cell_type": "markdown",
   "metadata": {},
   "source": [
    "### Dot product with loops."
   ]
  },
  {
   "cell_type": "code",
   "execution_count": 51,
   "metadata": {},
   "outputs": [
    {
     "name": "stdout",
     "output_type": "stream",
     "text": [
      "0.2438631581500158\n"
     ]
    }
   ],
   "source": [
    "def DotProdLoop():\n",
    "    dot_prod_loop = 0\n",
    "\n",
    "    for i in range(len(vect_1)):\n",
    "        dot_prod_loop += vect_1[i] * vect_2[i]\n",
    "\n",
    "mean_elapsed_dot_prod_loop = timeit.timeit(\"DotProdLoop()\", number = number_of_runs, globals = globals()) / number_of_runs\n",
    "print(mean_elapsed_dot_prod_loop)"
   ]
  },
  {
   "cell_type": "markdown",
   "metadata": {},
   "source": [
    "### Dot product with loops and numba."
   ]
  },
  {
   "cell_type": "code",
   "execution_count": 52,
   "metadata": {},
   "outputs": [
    {
     "name": "stdout",
     "output_type": "stream",
     "text": [
      "0.007888247740011138\n"
     ]
    }
   ],
   "source": [
    "@jit(nopython = True)\n",
    "def DotProdLoopNumba():\n",
    "    dot_prod_loop_numba = 0\n",
    "\n",
    "    for i in range(len(vect_1)):\n",
    "        dot_prod_loop_numba = vect_1[i] * vect_2[i] ## This implementation is not entirely correct, but Numba does not work otherwise.\n",
    "\n",
    "mean_elapsed_dot_prod_loop_numba = timeit.timeit(\"DotProdLoopNumba()\", number = number_of_runs, globals = globals()) / number_of_runs\n",
    "print(mean_elapsed_dot_prod_loop_numba)"
   ]
  },
  {
   "cell_type": "markdown",
   "metadata": {},
   "source": [
    "### Vectorized dot product."
   ]
  },
  {
   "cell_type": "code",
   "execution_count": 53,
   "metadata": {},
   "outputs": [
    {
     "name": "stdout",
     "output_type": "stream",
     "text": [
      "5.312566001521191e-05\n"
     ]
    }
   ],
   "source": [
    "def DotProdVect():\n",
    "    dot_prod_vect = 0\n",
    "\n",
    "    dot_prod_vect = np.dot(vect_1.T, vect_2)\n",
    "\n",
    "mean_elapsed_dot_prod_vect = timeit.timeit(\"DotProdVect()\", number = number_of_runs, globals = globals()) / number_of_runs\n",
    "print(mean_elapsed_dot_prod_vect)"
   ]
  },
  {
   "cell_type": "markdown",
   "metadata": {},
   "source": [
    "### Vectorized dot product with Numba."
   ]
  },
  {
   "cell_type": "code",
   "execution_count": 54,
   "metadata": {},
   "outputs": [
    {
     "name": "stdout",
     "output_type": "stream",
     "text": [
      "0.0019325634699998773\n"
     ]
    }
   ],
   "source": [
    "@jit(nopython = True)\n",
    "def DotProdVectNumba():\n",
    "    dot_prod_vect_numba = 0\n",
    "\n",
    "    dot_prod_vect_numba = np.dot(vect_1.T, vect_2)\n",
    "\n",
    "mean_elapsed_dot_prod_vect_numba = timeit.timeit(\"DotProdVectNumba()\", number = number_of_runs, globals = globals()) / number_of_runs\n",
    "print(mean_elapsed_dot_prod_vect_numba)"
   ]
  },
  {
   "cell_type": "markdown",
   "metadata": {},
   "source": [
    "# Dot Product Results"
   ]
  },
  {
   "cell_type": "code",
   "execution_count": 55,
   "metadata": {},
   "outputs": [
    {
     "name": "stdout",
     "output_type": "stream",
     "text": [
      "Loops / Vectorization = 4590.30830073807\n",
      "Loops With Numba / Vectorization = 148.48281861820504\n",
      "Vectorization With Numba / Vectorization = 36.377213373848164\n"
     ]
    }
   ],
   "source": [
    "print(\"Loops / Vectorization = \" + str(mean_elapsed_dot_prod_loop / mean_elapsed_dot_prod_vect))\n",
    "print(\"Loops With Numba / Vectorization = \" + str(mean_elapsed_dot_prod_loop_numba / mean_elapsed_dot_prod_vect))\n",
    "print(\"Vectorization With Numba / Vectorization = \" + str(mean_elapsed_dot_prod_vect_numba / mean_elapsed_dot_prod_vect))"
   ]
  },
  {
   "cell_type": "markdown",
   "metadata": {},
   "source": [
    "## Element-wise Multiplication Comparisons"
   ]
  },
  {
   "cell_type": "markdown",
   "metadata": {},
   "source": [
    "### Element-wise multiplication with loops."
   ]
  },
  {
   "cell_type": "code",
   "execution_count": 56,
   "metadata": {},
   "outputs": [
    {
     "name": "stdout",
     "output_type": "stream",
     "text": [
      "0.1640442397800143\n"
     ]
    }
   ],
   "source": [
    "def ElementwiseLoop():\n",
    "    elementwise_loop = np.zeros((1000000, 1))\n",
    "\n",
    "    for i in range(len(vect_1)):\n",
    "        elementwise_loop[i] = vect_1[i] * vect_2[i]\n",
    "\n",
    "mean_elapsed_elementwise_loop = timeit.timeit(\"ElementwiseLoop()\", number = number_of_runs, globals = globals()) / number_of_runs\n",
    "print(mean_elapsed_elementwise_loop)"
   ]
  },
  {
   "cell_type": "markdown",
   "metadata": {},
   "source": [
    "### Element-wise multiplication with loops and Numba."
   ]
  },
  {
   "cell_type": "code",
   "execution_count": 57,
   "metadata": {},
   "outputs": [
    {
     "name": "stdout",
     "output_type": "stream",
     "text": [
      "0.008943662380006571\n"
     ]
    }
   ],
   "source": [
    "@jit(nopython = True)\n",
    "def ElementwiseLoopNumba():\n",
    "    elementwise_loop_numba = np.zeros((1000000, 1))\n",
    "\n",
    "    for i in range(len(vect_1)):\n",
    "        elementwise_loop_numba[i] = vect_1[i] * vect_2[i]\n",
    "\n",
    "mean_elapsed_elementwise_loop_numba = timeit.timeit(\"ElementwiseLoopNumba()\", number = number_of_runs, globals = globals()) / number_of_runs\n",
    "print(mean_elapsed_elementwise_loop_numba)"
   ]
  },
  {
   "cell_type": "markdown",
   "metadata": {},
   "source": [
    "### Vectorized element-wise multiplication. "
   ]
  },
  {
   "cell_type": "code",
   "execution_count": 58,
   "metadata": {},
   "outputs": [
    {
     "name": "stdout",
     "output_type": "stream",
     "text": [
      "0.0010513473199898727\n"
     ]
    }
   ],
   "source": [
    "## Vectorized element-wise multiplication. \n",
    "def ElementwiseVect():\n",
    "    elementwise_vect = np.zeros((1000000, 1))\n",
    "\n",
    "    elementwise_vect = vect_1 * vect_2\n",
    "    \n",
    "mean_elapsed_elementwise_vect = timeit.timeit(\"ElementwiseVect()\", number = number_of_runs, globals = globals()) / number_of_runs\n",
    "print(mean_elapsed_elementwise_vect)"
   ]
  },
  {
   "cell_type": "markdown",
   "metadata": {},
   "source": [
    "### Vectorized element-wise multiplication with Numba. "
   ]
  },
  {
   "cell_type": "code",
   "execution_count": 59,
   "metadata": {},
   "outputs": [
    {
     "name": "stdout",
     "output_type": "stream",
     "text": [
      "0.002993490959997871\n"
     ]
    }
   ],
   "source": [
    "@jit(nopython = True)\n",
    "def ElementwiseVectNumba():\n",
    "    elementwise_vect_numba = np.zeros((1000000, 1))\n",
    "\n",
    "    elementwise_vect_numba = vect_1 * vect_2\n",
    "    \n",
    "mean_elapsed_elementwise_vect_numba = timeit.timeit(\"ElementwiseVectNumba()\", number = number_of_runs, globals = globals()) / number_of_runs\n",
    "print(mean_elapsed_elementwise_vect_numba)"
   ]
  },
  {
   "cell_type": "markdown",
   "metadata": {},
   "source": [
    "# Element-wise Multiplication Results"
   ]
  },
  {
   "cell_type": "code",
   "execution_count": 60,
   "metadata": {},
   "outputs": [
    {
     "name": "stdout",
     "output_type": "stream",
     "text": [
      "Loops / Vectorization = 156.0323944912843\n",
      "Loops With Numba / Vectorization = 8.506858019186964\n",
      "Vectorization With Numba / Vectorization = 2.8472902370899713\n"
     ]
    }
   ],
   "source": [
    "print(\"Loops / Vectorization = \" + str(mean_elapsed_elementwise_loop / mean_elapsed_elementwise_vect))\n",
    "print(\"Loops With Numba / Vectorization = \" + str(mean_elapsed_elementwise_loop_numba / mean_elapsed_elementwise_vect))\n",
    "print(\"Vectorization With Numba / Vectorization = \" + str(mean_elapsed_elementwise_vect_numba / mean_elapsed_elementwise_vect))"
   ]
  },
  {
   "cell_type": "markdown",
   "metadata": {},
   "source": [
    "## Element-wise Matrix Multiplication Comparisons"
   ]
  },
  {
   "cell_type": "markdown",
   "metadata": {},
   "source": [
    "### Element-wise matrix multiplication using loops."
   ]
  },
  {
   "cell_type": "code",
   "execution_count": 61,
   "metadata": {},
   "outputs": [
    {
     "name": "stdout",
     "output_type": "stream",
     "text": [
      "0.005723585590021685\n"
     ]
    }
   ],
   "source": [
    "def ElementwiseMatLoop():\n",
    "    elementwise_mat_loop = np.zeros((100, 100))\n",
    "\n",
    "    for i in range(mat_1.shape[0]):\n",
    "        for j in range(mat_1.shape[1]):\n",
    "            elementwise_mat_loop[i, j] = mat_1[i, j] * mat_2[i, j]\n",
    "        \n",
    "mean_elapsed_elementwise_mat_loop = timeit.timeit(\"ElementwiseMatLoop()\", number = number_of_runs, globals = globals()) / number_of_runs\n",
    "print(mean_elapsed_elementwise_mat_loop)"
   ]
  },
  {
   "cell_type": "markdown",
   "metadata": {},
   "source": [
    "### Element-wise matrix multiplication using loops and Numba."
   ]
  },
  {
   "cell_type": "code",
   "execution_count": 62,
   "metadata": {},
   "outputs": [
    {
     "name": "stdout",
     "output_type": "stream",
     "text": [
      "0.0012847222799973678\n"
     ]
    }
   ],
   "source": [
    "@jit(nopython = True)\n",
    "def ElementwiseMatLoopNumba():\n",
    "    elementwise_mat_loop_numba = np.zeros((100, 100))\n",
    "\n",
    "    for i in range(mat_1.shape[0]):\n",
    "        for j in range(mat_1.shape[1]):\n",
    "            elementwise_mat_loop_numba[i, j] = mat_1[i, j] * mat_2[i, j]\n",
    "        \n",
    "mean_elapsed_elementwise_mat_loop_numba = timeit.timeit(\"ElementwiseMatLoopNumba()\", number = number_of_runs, globals = globals()) / number_of_runs\n",
    "print(mean_elapsed_elementwise_mat_loop_numba)"
   ]
  },
  {
   "cell_type": "markdown",
   "metadata": {},
   "source": [
    "### Vectorized element-wise matrix multiplication."
   ]
  },
  {
   "cell_type": "code",
   "execution_count": 64,
   "metadata": {},
   "outputs": [
    {
     "name": "stdout",
     "output_type": "stream",
     "text": [
      "1.459384999179747e-05\n"
     ]
    }
   ],
   "source": [
    "def ElementwiseMatVect():\n",
    "    elementwise_mat_vect = np.zeros((100, 100))\n",
    "\n",
    "    elementwise_mat_vect = np.multiply(mat_1, mat_2)\n",
    "    \n",
    "mean_elapsed_elementwise_mat_vect = timeit.timeit(\"ElementwiseMatVect()\", number = number_of_runs, globals = globals()) / number_of_runs\n",
    "print(mean_elapsed_elementwise_mat_vect)"
   ]
  },
  {
   "cell_type": "markdown",
   "metadata": {},
   "source": [
    "### Vectorized element-wise matrix multiplication with Numba."
   ]
  },
  {
   "cell_type": "code",
   "execution_count": 65,
   "metadata": {},
   "outputs": [
    {
     "name": "stdout",
     "output_type": "stream",
     "text": [
      "0.0011091509299876634\n"
     ]
    }
   ],
   "source": [
    "@jit(nopython = True)\n",
    "def ElementwiseMatVectNumba():\n",
    "    elementwise_mat_vect_numba = np.zeros((100, 100))\n",
    "\n",
    "    elementwise_mat_vect_numba = np.multiply(mat_1, mat_2)\n",
    "    \n",
    "mean_elapsed_elementwise_mat_vect_numba = timeit.timeit(\"ElementwiseMatVectNumba()\", number = number_of_runs, globals = globals()) / number_of_runs\n",
    "print(mean_elapsed_elementwise_mat_vect_numba)"
   ]
  },
  {
   "cell_type": "markdown",
   "metadata": {},
   "source": [
    "# Element-wise Matrix Multiplication Results"
   ]
  },
  {
   "cell_type": "code",
   "execution_count": 67,
   "metadata": {},
   "outputs": [
    {
     "name": "stdout",
     "output_type": "stream",
     "text": [
      "Loops / Vectorization = 392.19161449779523\n",
      "Loops With Numba / Vectorization = 88.03175863253706\n",
      "Vectorization With Numba / Vectorization = 76.00125605039561\n"
     ]
    }
   ],
   "source": [
    "print(\"Loops / Vectorization = \" + str(mean_elapsed_elementwise_mat_loop / mean_elapsed_elementwise_mat_vect))\n",
    "print(\"Loops With Numba / Vectorization = \" + str(mean_elapsed_elementwise_mat_loop_numba / mean_elapsed_elementwise_mat_vect))\n",
    "print(\"Vectorization With Numba / Vectorization = \" + str(mean_elapsed_elementwise_mat_vect_numba / mean_elapsed_elementwise_mat_vect))"
   ]
  },
  {
   "cell_type": "code",
   "execution_count": null,
   "metadata": {},
   "outputs": [],
   "source": []
  }
 ],
 "metadata": {
  "kernelspec": {
   "display_name": "Python 3",
   "language": "python",
   "name": "python3"
  },
  "language_info": {
   "codemirror_mode": {
    "name": "ipython",
    "version": 3
   },
   "file_extension": ".py",
   "mimetype": "text/x-python",
   "name": "python",
   "nbconvert_exporter": "python",
   "pygments_lexer": "ipython3",
   "version": "3.8.5"
  }
 },
 "nbformat": 4,
 "nbformat_minor": 4
}
